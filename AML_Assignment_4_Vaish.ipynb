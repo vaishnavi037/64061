{
  "cells": [
    {
      "cell_type": "code",
      "execution_count": null,
      "metadata": {
        "colab": {
          "base_uri": "https://localhost:8080/"
        },
        "id": "OK_YTOXxSkYp",
        "outputId": "e6badce2-3114-44e4-d604-087b2f70550b"
      },
      "outputs": [
        {
          "output_type": "stream",
          "name": "stdout",
          "text": [
            "  % Total    % Received % Xferd  Average Speed   Time    Time     Time  Current\n",
            "                                 Dload  Upload   Total   Spent    Left  Speed\n",
            "100 80.2M  100 80.2M    0     0  6208k      0  0:00:13  0:00:13 --:--:-- 14.3M\n"
          ]
        }
      ],
      "source": [
        "!curl -O https://ai.stanford.edu/~amaas/data/sentiment/aclImdb_v1.tar.gz\n",
        "!tar -xf aclImdb_v1.tar.gz\n",
        "!rm -r aclImdb/train/unsup"
      ]
    },
    {
      "cell_type": "markdown",
      "metadata": {
        "id": "FxFa4ubQmcPT"
      },
      "source": [
        "Setting up the data"
      ]
    },
    {
      "cell_type": "code",
      "execution_count": null,
      "metadata": {
        "colab": {
          "base_uri": "https://localhost:8080/"
        },
        "id": "HCTPULw4DkWz",
        "outputId": "944f8f59-2381-483c-fd50-6b50de2b2427"
      },
      "outputs": [
        {
          "output_type": "stream",
          "name": "stdout",
          "text": [
            "Found 20000 files belonging to 2 classes.\n",
            "Found 5000 files belonging to 2 classes.\n",
            "Found 25000 files belonging to 2 classes.\n"
          ]
        }
      ],
      "source": [
        "import os, pathlib, shutil, random\n",
        "from tensorflow import keras\n",
        "batch_size = 32\n",
        "base_dir7= pathlib.Path(\"/content/aclImdb\")\n",
        "val_dir7 = base_dir7/ \"val\"\n",
        "train_dir7 = base_dir7 / \"train\"\n",
        "for category in (\"neg\", \"pos\"):\n",
        "    os.makedirs(val_dir7 / category, exist_ok=True )\n",
        "\n",
        "    files = os.listdir(train_dir7 / category)\n",
        "    random.Random(1337).shuffle(files)\n",
        "    num_val_samples = int(0.2 * len(files))\n",
        "    val_files = files[-num_val_samples:]\n",
        "    for fname in val_files:\n",
        "        shutil.move(train_dir7 / category / fname,\n",
        "                    val_dir7 / category / fname)\n",
        "\n",
        "train_ds = keras.utils.text_dataset_from_directory(\n",
        "    \"aclImdb/train\", batch_size=batch_size\n",
        ").take(150)\n",
        "\n",
        "val_ds = keras.utils.text_dataset_from_directory(\n",
        "    \"/content/aclImdb/val\", batch_size=batch_size\n",
        ")\n",
        "test_ds = keras.utils.text_dataset_from_directory(\n",
        "    \"aclImdb/test\", batch_size=batch_size\n",
        ")\n",
        "text_only_train_ds = train_ds.map(lambda x, y: x)\n"
      ]
    },
    {
      "cell_type": "markdown",
      "metadata": {
        "id": "08v9H-1dmf2d"
      },
      "source": [
        "Setting up datasets for integer sequences"
      ]
    },
    {
      "cell_type": "code",
      "execution_count": null,
      "metadata": {
        "id": "Qwdim3LtDkh_"
      },
      "outputs": [],
      "source": [
        "from tensorflow.keras import layers\n",
        "\n",
        "max_length = 150\n",
        "max_tokens = 20000\n",
        "text_vectorization = layers.TextVectorization(\n",
        "    max_tokens=max_tokens,\n",
        "    output_mode=\"int\",\n",
        "    output_sequence_length=max_length,\n",
        ")\n",
        "text_vectorization.adapt(text_only_train_ds)\n",
        "\n",
        "int_train_ds = train_ds.map(\n",
        "    lambda x, y: (text_vectorization(x), y),\n",
        "    num_parallel_calls=4)\n",
        "int_val_ds = val_ds.map(\n",
        "    lambda x, y: (text_vectorization(x), y),\n",
        "    num_parallel_calls=4)\n",
        "int_test_ds = test_ds.map(\n",
        "    lambda x, y: (text_vectorization(x), y),\n",
        "    num_parallel_calls=4)"
      ]
    },
    {
      "cell_type": "markdown",
      "metadata": {
        "id": "UeIC--rVmkNw"
      },
      "source": [
        "**A vector sequence model built with one-hot encoding**"
      ]
    },
    {
      "cell_type": "code",
      "execution_count": null,
      "metadata": {
        "colab": {
          "base_uri": "https://localhost:8080/"
        },
        "id": "xHPKcp4TDkqm",
        "outputId": "b5bab631-3ad4-4e5e-a907-253e82f7aaf0"
      },
      "outputs": [
        {
          "output_type": "stream",
          "name": "stdout",
          "text": [
            "Model: \"model\"\n",
            "_________________________________________________________________\n",
            " Layer (type)                Output Shape              Param #   \n",
            "=================================================================\n",
            " input_1 (InputLayer)        [(None, None)]            0         \n",
            "                                                                 \n",
            " tf.one_hot (TFOpLambda)     (None, None, 20000)       0         \n",
            "                                                                 \n",
            " bidirectional (Bidirection  (None, 64)                5128448   \n",
            " al)                                                             \n",
            "                                                                 \n",
            " dropout (Dropout)           (None, 64)                0         \n",
            "                                                                 \n",
            " dense (Dense)               (None, 1)                 65        \n",
            "                                                                 \n",
            "=================================================================\n",
            "Total params: 5128513 (19.56 MB)\n",
            "Trainable params: 5128513 (19.56 MB)\n",
            "Non-trainable params: 0 (0.00 Byte)\n",
            "_________________________________________________________________\n"
          ]
        }
      ],
      "source": [
        "import tensorflow as tf\n",
        "inputs = keras.Input(shape=(None,), dtype=\"int64\")\n",
        "embedded = tf.one_hot(inputs, depth=max_tokens)\n",
        "x = layers.Bidirectional(layers.LSTM(32))(embedded)\n",
        "x = layers.Dropout(0.5)(x)\n",
        "outputs = layers.Dense(1, activation=\"sigmoid\")(x)\n",
        "model = keras.Model(inputs, outputs)\n",
        "model.compile(optimizer=\"rmsprop\",\n",
        "              loss=\"binary_crossentropy\",\n",
        "              metrics=[\"accuracy\"])\n",
        "model.summary()"
      ]
    },
    {
      "cell_type": "markdown",
      "metadata": {
        "id": "pGMmF45lmr2m"
      },
      "source": [
        "Developing a basic sequence model initially"
      ]
    },
    {
      "cell_type": "code",
      "execution_count": null,
      "metadata": {
        "colab": {
          "base_uri": "https://localhost:8080/"
        },
        "id": "haVNKQlBDkuv",
        "outputId": "b8d5aa14-0548-48b4-af29-3db6e2e9e08d"
      },
      "outputs": [
        {
          "output_type": "stream",
          "name": "stdout",
          "text": [
            "Epoch 1/10\n",
            "150/150 [==============================] - 31s 170ms/step - loss: 0.6909 - accuracy: 0.5392 - val_loss: 0.6790 - val_accuracy: 0.6244\n",
            "Epoch 2/10\n",
            "150/150 [==============================] - 25s 164ms/step - loss: 0.5776 - accuracy: 0.7169 - val_loss: 0.4921 - val_accuracy: 0.7702\n",
            "Epoch 3/10\n",
            "150/150 [==============================] - 23s 155ms/step - loss: 0.4165 - accuracy: 0.8342 - val_loss: 0.4084 - val_accuracy: 0.8196\n",
            "Epoch 4/10\n",
            "150/150 [==============================] - 24s 163ms/step - loss: 0.3254 - accuracy: 0.8863 - val_loss: 0.3917 - val_accuracy: 0.8246\n",
            "Epoch 5/10\n",
            "150/150 [==============================] - 14s 95ms/step - loss: 0.2412 - accuracy: 0.9260 - val_loss: 0.3980 - val_accuracy: 0.8230\n",
            "Epoch 6/10\n",
            "150/150 [==============================] - 14s 96ms/step - loss: 0.2090 - accuracy: 0.9369 - val_loss: 0.4220 - val_accuracy: 0.8262\n",
            "Epoch 7/10\n",
            "150/150 [==============================] - 14s 96ms/step - loss: 0.1638 - accuracy: 0.9504 - val_loss: 0.4322 - val_accuracy: 0.8326\n",
            "Epoch 8/10\n",
            "150/150 [==============================] - 14s 95ms/step - loss: 0.1278 - accuracy: 0.9648 - val_loss: 0.6970 - val_accuracy: 0.8092\n",
            "Epoch 9/10\n",
            "150/150 [==============================] - 14s 96ms/step - loss: 0.1001 - accuracy: 0.9690 - val_loss: 0.4420 - val_accuracy: 0.7974\n",
            "Epoch 10/10\n",
            "150/150 [==============================] - 14s 95ms/step - loss: 0.0808 - accuracy: 0.9790 - val_loss: 0.5092 - val_accuracy: 0.8048\n",
            "782/782 [==============================] - 27s 34ms/step - loss: 0.3947 - accuracy: 0.8249\n",
            "Test acc: 0.825\n"
          ]
        }
      ],
      "source": [
        "callbacks = [\n",
        "    keras.callbacks.ModelCheckpoint(\"one_hot_bidir_lstm.x\",\n",
        "                                    save_best_only=True)\n",
        "]\n",
        "model.fit(int_train_ds, validation_data=int_val_ds, epochs=10, callbacks=callbacks)\n",
        "model = keras.models.load_model(\"one_hot_bidir_lstm.x\")\n",
        "print(f\"Test acc: {model.evaluate(int_test_ds)[1]:.3f}\")"
      ]
    },
    {
      "cell_type": "markdown",
      "metadata": {
        "id": "5PkSSfcHmtTS"
      },
      "source": [
        "**Using the Embedding layer to learn word embeddings**\n",
        "\n",
        "Putting an Embedding layer into Action"
      ]
    },
    {
      "cell_type": "code",
      "execution_count": null,
      "metadata": {
        "id": "gwqOwLSKDkyH"
      },
      "outputs": [],
      "source": [
        "embedding_layer = layers.Embedding(input_dim=max_tokens, output_dim=256)"
      ]
    },
    {
      "cell_type": "markdown",
      "metadata": {
        "id": "BwlrpDgxm876"
      },
      "source": [
        "Embedding layer model that was trained from scratch"
      ]
    },
    {
      "cell_type": "code",
      "execution_count": null,
      "metadata": {
        "colab": {
          "base_uri": "https://localhost:8080/"
        },
        "id": "terl2LwbDky9",
        "outputId": "8086c528-c273-46cc-ee8a-1b79425396c8"
      },
      "outputs": [
        {
          "output_type": "stream",
          "name": "stdout",
          "text": [
            "Model: \"model_1\"\n",
            "_________________________________________________________________\n",
            " Layer (type)                Output Shape              Param #   \n",
            "=================================================================\n",
            " input_2 (InputLayer)        [(None, None)]            0         \n",
            "                                                                 \n",
            " embedding_1 (Embedding)     (None, None, 256)         5120000   \n",
            "                                                                 \n",
            " bidirectional_1 (Bidirecti  (None, 64)                73984     \n",
            " onal)                                                           \n",
            "                                                                 \n",
            " dropout_1 (Dropout)         (None, 64)                0         \n",
            "                                                                 \n",
            " dense_1 (Dense)             (None, 1)                 65        \n",
            "                                                                 \n",
            "=================================================================\n",
            "Total params: 5194049 (19.81 MB)\n",
            "Trainable params: 5194049 (19.81 MB)\n",
            "Non-trainable params: 0 (0.00 Byte)\n",
            "_________________________________________________________________\n",
            "Epoch 1/10\n",
            "150/150 [==============================] - 25s 137ms/step - loss: 0.6690 - accuracy: 0.5719 - val_loss: 0.5783 - val_accuracy: 0.7108\n",
            "Epoch 2/10\n",
            "150/150 [==============================] - 17s 117ms/step - loss: 0.5004 - accuracy: 0.7779 - val_loss: 0.5666 - val_accuracy: 0.7568\n",
            "Epoch 3/10\n",
            "150/150 [==============================] - 15s 103ms/step - loss: 0.3590 - accuracy: 0.8587 - val_loss: 0.4314 - val_accuracy: 0.8080\n",
            "Epoch 4/10\n",
            "150/150 [==============================] - 4s 29ms/step - loss: 0.2369 - accuracy: 0.9144 - val_loss: 0.4558 - val_accuracy: 0.7984\n",
            "Epoch 5/10\n",
            "150/150 [==============================] - 4s 29ms/step - loss: 0.1724 - accuracy: 0.9433 - val_loss: 0.4903 - val_accuracy: 0.7874\n",
            "Epoch 6/10\n",
            "150/150 [==============================] - 4s 26ms/step - loss: 0.1228 - accuracy: 0.9629 - val_loss: 0.5363 - val_accuracy: 0.7918\n",
            "Epoch 7/10\n",
            "150/150 [==============================] - 5s 30ms/step - loss: 0.0820 - accuracy: 0.9754 - val_loss: 0.6350 - val_accuracy: 0.8126\n",
            "Epoch 8/10\n",
            "150/150 [==============================] - 4s 26ms/step - loss: 0.0689 - accuracy: 0.9781 - val_loss: 0.6907 - val_accuracy: 0.7630\n",
            "Epoch 9/10\n",
            "150/150 [==============================] - 5s 35ms/step - loss: 0.0446 - accuracy: 0.9869 - val_loss: 0.7257 - val_accuracy: 0.7966\n",
            "Epoch 10/10\n",
            "150/150 [==============================] - 4s 27ms/step - loss: 0.0519 - accuracy: 0.9835 - val_loss: 1.3834 - val_accuracy: 0.7358\n",
            "782/782 [==============================] - 8s 9ms/step - loss: 0.4440 - accuracy: 0.8024\n",
            "Test acc: 0.802\n"
          ]
        }
      ],
      "source": [
        "inputs = keras.Input(shape=(None,), dtype=\"int64\")\n",
        "embedded = layers.Embedding(input_dim=max_tokens, output_dim=256)(inputs)\n",
        "x = layers.Bidirectional(layers.LSTM(32))(embedded)\n",
        "x = layers.Dropout(0.5)(x)\n",
        "outputs = layers.Dense(1, activation=\"sigmoid\")(x)\n",
        "model = keras.Model(inputs, outputs)\n",
        "model.compile(optimizer=\"rmsprop\",\n",
        "              loss=\"binary_crossentropy\",\n",
        "              metrics=[\"accuracy\"])\n",
        "model.summary()\n",
        "\n",
        "callbacks = [\n",
        "    keras.callbacks.ModelCheckpoint(\"embeddings_bidir_gru.x\",\n",
        "                                    save_best_only=True)\n",
        "]\n",
        "model.fit(int_train_ds, validation_data=int_val_ds, epochs=10, callbacks=callbacks)\n",
        "model = keras.models.load_model(\"embeddings_bidir_gru.x\")\n",
        "print(f\"Test acc: {model.evaluate(int_test_ds)[1]:.3f}\")"
      ]
    },
    {
      "cell_type": "markdown",
      "metadata": {
        "id": "3MP9fVyBnBYJ"
      },
      "source": [
        "Recognizing masking and padding\n",
        "\n",
        "Applying masking to an Embedding layer"
      ]
    },
    {
      "cell_type": "code",
      "execution_count": null,
      "metadata": {
        "colab": {
          "base_uri": "https://localhost:8080/"
        },
        "id": "IRyFMQ36Dk2I",
        "outputId": "8faac843-b7b5-4afe-cf34-bf426596afda"
      },
      "outputs": [
        {
          "output_type": "stream",
          "name": "stdout",
          "text": [
            "Model: \"model_2\"\n",
            "_________________________________________________________________\n",
            " Layer (type)                Output Shape              Param #   \n",
            "=================================================================\n",
            " input_3 (InputLayer)        [(None, None)]            0         \n",
            "                                                                 \n",
            " embedding_2 (Embedding)     (None, None, 256)         5120000   \n",
            "                                                                 \n",
            " bidirectional_2 (Bidirecti  (None, 64)                73984     \n",
            " onal)                                                           \n",
            "                                                                 \n",
            " dropout_2 (Dropout)         (None, 64)                0         \n",
            "                                                                 \n",
            " dense_2 (Dense)             (None, 1)                 65        \n",
            "                                                                 \n",
            "=================================================================\n",
            "Total params: 5194049 (19.81 MB)\n",
            "Trainable params: 5194049 (19.81 MB)\n",
            "Non-trainable params: 0 (0.00 Byte)\n",
            "_________________________________________________________________\n",
            "Epoch 1/10\n",
            "150/150 [==============================] - 40s 209ms/step - loss: 0.6294 - accuracy: 0.6229 - val_loss: 0.4971 - val_accuracy: 0.7852\n",
            "Epoch 2/10\n",
            "150/150 [==============================] - 8s 54ms/step - loss: 0.4073 - accuracy: 0.8194 - val_loss: 0.5257 - val_accuracy: 0.7444\n",
            "Epoch 3/10\n",
            "150/150 [==============================] - 25s 164ms/step - loss: 0.2621 - accuracy: 0.9029 - val_loss: 0.4461 - val_accuracy: 0.8148\n",
            "Epoch 4/10\n",
            "150/150 [==============================] - 8s 53ms/step - loss: 0.1769 - accuracy: 0.9406 - val_loss: 0.4676 - val_accuracy: 0.8172\n",
            "Epoch 5/10\n",
            "150/150 [==============================] - 5s 35ms/step - loss: 0.1222 - accuracy: 0.9608 - val_loss: 0.4702 - val_accuracy: 0.8088\n",
            "Epoch 6/10\n",
            "150/150 [==============================] - 5s 35ms/step - loss: 0.0769 - accuracy: 0.9758 - val_loss: 0.5382 - val_accuracy: 0.7960\n",
            "Epoch 7/10\n",
            "150/150 [==============================] - 5s 36ms/step - loss: 0.0573 - accuracy: 0.9815 - val_loss: 0.7233 - val_accuracy: 0.7858\n",
            "Epoch 8/10\n",
            "150/150 [==============================] - 5s 35ms/step - loss: 0.0418 - accuracy: 0.9887 - val_loss: 1.1276 - val_accuracy: 0.7356\n",
            "Epoch 9/10\n",
            "150/150 [==============================] - 5s 33ms/step - loss: 0.0430 - accuracy: 0.9877 - val_loss: 0.6231 - val_accuracy: 0.8098\n",
            "Epoch 10/10\n",
            "150/150 [==============================] - 6s 37ms/step - loss: 0.0278 - accuracy: 0.9919 - val_loss: 1.5016 - val_accuracy: 0.7244\n",
            "782/782 [==============================] - 10s 9ms/step - loss: 0.4803 - accuracy: 0.7984\n",
            "Test acc: 0.798\n"
          ]
        }
      ],
      "source": [
        "inputs = keras.Input(shape=(None,), dtype=\"int64\")\n",
        "embedded = layers.Embedding(\n",
        "    input_dim=max_tokens, output_dim=256, mask_zero=True)(inputs)\n",
        "x = layers.Bidirectional(layers.LSTM(32))(embedded)\n",
        "x = layers.Dropout(0.5)(x)\n",
        "outputs = layers.Dense(1, activation=\"sigmoid\")(x)\n",
        "model = keras.Model(inputs, outputs)\n",
        "model.compile(optimizer=\"rmsprop\",\n",
        "              loss=\"binary_crossentropy\",\n",
        "              metrics=[\"accuracy\"])\n",
        "model.summary()\n",
        "\n",
        "callbacks = [\n",
        "    keras.callbacks.ModelCheckpoint(\"embeddings_bidir_gru_with_masking.x\",\n",
        "                                    save_best_only=True)\n",
        "]\n",
        "model.fit(int_train_ds, validation_data=int_val_ds, epochs=10, callbacks=callbacks)\n",
        "model = keras.models.load_model(\"embeddings_bidir_gru_with_masking.x\")\n",
        "print(f\"Test acc: {model.evaluate(int_test_ds)[1]:.3f}\")"
      ]
    },
    {
      "cell_type": "markdown",
      "metadata": {
        "id": "o86_AagPnInn"
      },
      "source": [
        "*Pretrained word embeddings are used*"
      ]
    },
    {
      "cell_type": "code",
      "execution_count": null,
      "metadata": {
        "colab": {
          "base_uri": "https://localhost:8080/"
        },
        "id": "-mN0wzxSDk51",
        "outputId": "4975eeae-55ce-402a-9848-39005f816f31"
      },
      "outputs": [
        {
          "output_type": "stream",
          "name": "stdout",
          "text": [
            "--2024-04-24 22:11:12--  http://nlp.stanford.edu/data/glove.6B.zip\n",
            "Resolving nlp.stanford.edu (nlp.stanford.edu)... 171.64.67.140\n",
            "Connecting to nlp.stanford.edu (nlp.stanford.edu)|171.64.67.140|:80... connected.\n",
            "HTTP request sent, awaiting response... 302 Found\n",
            "Location: https://nlp.stanford.edu/data/glove.6B.zip [following]\n",
            "--2024-04-24 22:11:12--  https://nlp.stanford.edu/data/glove.6B.zip\n",
            "Connecting to nlp.stanford.edu (nlp.stanford.edu)|171.64.67.140|:443... connected.\n",
            "HTTP request sent, awaiting response... 301 Moved Permanently\n",
            "Location: https://downloads.cs.stanford.edu/nlp/data/glove.6B.zip [following]\n",
            "--2024-04-24 22:11:13--  https://downloads.cs.stanford.edu/nlp/data/glove.6B.zip\n",
            "Resolving downloads.cs.stanford.edu (downloads.cs.stanford.edu)... 171.64.64.22\n",
            "Connecting to downloads.cs.stanford.edu (downloads.cs.stanford.edu)|171.64.64.22|:443... connected.\n",
            "HTTP request sent, awaiting response... 200 OK\n",
            "Length: 862182613 (822M) [application/zip]\n",
            "Saving to: ‘glove.6B.zip’\n",
            "\n",
            "glove.6B.zip        100%[===================>] 822.24M  5.10MB/s    in 2m 44s  \n",
            "\n",
            "2024-04-24 22:13:58 (5.02 MB/s) - ‘glove.6B.zip’ saved [862182613/862182613]\n",
            "\n"
          ]
        }
      ],
      "source": [
        "!wget http://nlp.stanford.edu/data/glove.6B.zip\n",
        "!unzip -q glove.6B.zip"
      ]
    },
    {
      "cell_type": "markdown",
      "metadata": {
        "id": "X835rtwDnk6Z"
      },
      "source": [
        "Interpreting the GloVe word-embeddings file"
      ]
    },
    {
      "cell_type": "code",
      "execution_count": null,
      "metadata": {
        "colab": {
          "base_uri": "https://localhost:8080/"
        },
        "id": "MOLlubx2Dk_7",
        "outputId": "a1f26ab7-e88c-4a31-ed17-3ce6d982ea9b"
      },
      "outputs": [
        {
          "output_type": "stream",
          "name": "stdout",
          "text": [
            "Found 400000 word vectors.\n"
          ]
        }
      ],
      "source": [
        "import numpy as np\n",
        "path_to_glove_file = \"glove.6B.100d.txt\"\n",
        "\n",
        "embeddings_index = {}\n",
        "with open(path_to_glove_file) as f:\n",
        "    for line in f:\n",
        "        word, coefs = line.split(maxsplit=1)\n",
        "        coefs = np.fromstring(coefs, \"f\", sep=\" \")\n",
        "        embeddings_index[word] = coefs\n",
        "\n",
        "print(f\"Found {len(embeddings_index)} word vectors.\")"
      ]
    },
    {
      "cell_type": "markdown",
      "metadata": {
        "id": "RRyuVIv_nofQ"
      },
      "source": [
        "Setting up the matrix for GloVe word embeddings"
      ]
    },
    {
      "cell_type": "code",
      "execution_count": null,
      "metadata": {
        "id": "qiz6_gW3EaO0"
      },
      "outputs": [],
      "source": [
        "embedding_dim = 100\n",
        "\n",
        "vocabulary = text_vectorization.get_vocabulary()\n",
        "word_index = dict(zip(vocabulary, range(len(vocabulary))))\n",
        "\n",
        "embedding_matrix = np.zeros((max_tokens, embedding_dim))\n",
        "for word, i in word_index.items():\n",
        "    if i < max_tokens:\n",
        "        embedding_vector = embeddings_index.get(word)\n",
        "    if embedding_vector is not None:\n",
        "        embedding_matrix[i] = embedding_vector"
      ]
    },
    {
      "cell_type": "code",
      "execution_count": null,
      "metadata": {
        "id": "XvhY89MEEaVf"
      },
      "outputs": [],
      "source": [
        "embedding_layer = layers.Embedding(\n",
        "    max_tokens,\n",
        "    embedding_dim,\n",
        "    embeddings_initializer=keras.initializers.Constant(embedding_matrix),\n",
        "    trainable=False,\n",
        "    mask_zero=True,\n",
        ")"
      ]
    },
    {
      "cell_type": "markdown",
      "metadata": {
        "id": "a1WNTUOnnx_e"
      },
      "source": [
        "**Embedding layer model with pretrained technique**"
      ]
    },
    {
      "cell_type": "code",
      "execution_count": null,
      "metadata": {
        "colab": {
          "base_uri": "https://localhost:8080/"
        },
        "id": "lom9Mui-EaZ-",
        "outputId": "8aa36090-6f4e-4c28-b2f9-48ab76d21228"
      },
      "outputs": [
        {
          "output_type": "stream",
          "name": "stdout",
          "text": [
            "Model: \"model_3\"\n",
            "_________________________________________________________________\n",
            " Layer (type)                Output Shape              Param #   \n",
            "=================================================================\n",
            " input_4 (InputLayer)        [(None, None)]            0         \n",
            "                                                                 \n",
            " embedding_3 (Embedding)     (None, None, 100)         2000000   \n",
            "                                                                 \n",
            " bidirectional_3 (Bidirecti  (None, 64)                34048     \n",
            " onal)                                                           \n",
            "                                                                 \n",
            " dropout_3 (Dropout)         (None, 64)                0         \n",
            "                                                                 \n",
            " dense_3 (Dense)             (None, 1)                 65        \n",
            "                                                                 \n",
            "=================================================================\n",
            "Total params: 2034113 (7.76 MB)\n",
            "Trainable params: 34113 (133.25 KB)\n",
            "Non-trainable params: 2000000 (7.63 MB)\n",
            "_________________________________________________________________\n",
            "Epoch 1/10\n",
            "150/150 [==============================] - 52s 274ms/step - loss: 0.6789 - accuracy: 0.5738 - val_loss: 0.6207 - val_accuracy: 0.6582\n",
            "Epoch 2/10\n",
            "150/150 [==============================] - 43s 290ms/step - loss: 0.6057 - accuracy: 0.6769 - val_loss: 0.5531 - val_accuracy: 0.7224\n",
            "Epoch 3/10\n",
            "150/150 [==============================] - 47s 312ms/step - loss: 0.5553 - accuracy: 0.7158 - val_loss: 0.5407 - val_accuracy: 0.7312\n",
            "Epoch 4/10\n",
            "150/150 [==============================] - 40s 268ms/step - loss: 0.5136 - accuracy: 0.7492 - val_loss: 0.4983 - val_accuracy: 0.7524\n",
            "Epoch 5/10\n",
            "150/150 [==============================] - 8s 53ms/step - loss: 0.4838 - accuracy: 0.7748 - val_loss: 0.5241 - val_accuracy: 0.7466\n",
            "Epoch 6/10\n",
            "150/150 [==============================] - 43s 286ms/step - loss: 0.4702 - accuracy: 0.7796 - val_loss: 0.4737 - val_accuracy: 0.7710\n",
            "Epoch 7/10\n",
            "150/150 [==============================] - 45s 303ms/step - loss: 0.4470 - accuracy: 0.7908 - val_loss: 0.4545 - val_accuracy: 0.7832\n",
            "Epoch 8/10\n",
            "150/150 [==============================] - 46s 308ms/step - loss: 0.4370 - accuracy: 0.7960 - val_loss: 0.4518 - val_accuracy: 0.7842\n",
            "Epoch 9/10\n",
            "150/150 [==============================] - 8s 54ms/step - loss: 0.4176 - accuracy: 0.8110 - val_loss: 0.5174 - val_accuracy: 0.7542\n",
            "Epoch 10/10\n",
            "150/150 [==============================] - 38s 258ms/step - loss: 0.3966 - accuracy: 0.8254 - val_loss: 0.4452 - val_accuracy: 0.7878\n",
            "782/782 [==============================] - 10s 9ms/step - loss: 0.4458 - accuracy: 0.7898\n",
            "Test acc: 0.790\n"
          ]
        }
      ],
      "source": [
        "inputs = keras.Input(shape=(None,), dtype=\"int64\")\n",
        "embedded = embedding_layer(inputs)\n",
        "x = layers.Bidirectional(layers.LSTM(32))(embedded)\n",
        "x = layers.Dropout(0.5)(x)\n",
        "outputs = layers.Dense(1, activation=\"sigmoid\")(x)\n",
        "model = keras.Model(inputs, outputs)\n",
        "model.compile(optimizer=\"rmsprop\",\n",
        "              loss=\"binary_crossentropy\",\n",
        "              metrics=[\"accuracy\"])\n",
        "model.summary()\n",
        "\n",
        "callbacks = [\n",
        "    keras.callbacks.ModelCheckpoint(\"glove_embeddings_sequence_model.x\",\n",
        "                                    save_best_only=True)\n",
        "]\n",
        "model.fit(int_train_ds, validation_data=int_val_ds, epochs=10, callbacks=callbacks)\n",
        "model = keras.models.load_model(\"glove_embeddings_sequence_model.x\")\n",
        "print(f\"Test acc: {model.evaluate(int_test_ds)[1]:.3f}\")"
      ]
    }
  ],
  "metadata": {
    "accelerator": "GPU",
    "colab": {
      "gpuClass": "premium",
      "provenance": []
    },
    "gpuClass": "premium",
    "kernelspec": {
      "display_name": "Python 3",
      "name": "python3"
    },
    "language_info": {
      "name": "python"
    }
  },
  "nbformat": 4,
  "nbformat_minor": 0
}